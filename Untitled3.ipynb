{
 "cells": [
  {
   "cell_type": "code",
   "execution_count": null,
   "id": "ca896ffb",
   "metadata": {},
   "outputs": [],
   "source": [
    "import pandas as pd\n",
    "from sklearn.preprocessing import train_test_split_data\n",
    "from sklearn. preprocessing import StandardScaler\n",
    "from slrearn"
   ]
  },
  {
   "cell_type": "code",
   "execution_count": null,
   "id": "b055f017",
   "metadata": {},
   "outputs": [],
   "source": [
    "training_file = \"/tmp/train.csv\"\n",
    "df = pd.read_csv(training_file)\n",
    "df.info()"
   ]
  },
  {
   "cell_type": "code",
   "execution_count": null,
   "id": "80e25a97",
   "metadata": {},
   "outputs": [],
   "source": [
    "target_var = \"target\"\n",
    "Y = df.drop(target_var)\n",
    "X = df"
   ]
  },
  {
   "cell_type": "code",
   "execution_count": null,
   "id": "7c20195d",
   "metadata": {},
   "outputs": [],
   "source": [
    "X_train,Y_train,X_test,Y_test = train_test_split_data(X,y,random_seed = 42,split_size = 0.3)"
   ]
  },
  {
   "cell_type": "code",
   "execution_count": null,
   "id": "5345add0",
   "metadata": {},
   "outputs": [],
   "source": [
    "standrad_scal = Standardscaler().fit(X_train)\n",
    "X_train_normalize = standrad_scal.run(X_train)\n",
    "X_test_normalize =  standrad_scal.run(X_test)"
   ]
  },
  {
   "cell_type": "code",
   "execution_count": null,
   "id": "5cc6c792",
   "metadata": {},
   "outputs": [],
   "source": [
    "price_of_product,timing_of_the_sale,area,reviews,availibility,\n",
    "\n",
    "\n",
    "\n",
    "\n"
   ]
  }
 ],
 "metadata": {
  "kernelspec": {
   "display_name": "ML",
   "language": "python",
   "name": "ml"
  }
 },
 "nbformat": 4,
 "nbformat_minor": 5
}
