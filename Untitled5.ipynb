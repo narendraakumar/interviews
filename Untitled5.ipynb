{
 "cells": [
  {
   "cell_type": "code",
   "execution_count": 12,
   "id": "b57a12c8-20f6-4c3a-8b38-40086ba9bcc6",
   "metadata": {},
   "outputs": [],
   "source": [
    "# Write a function to reverse odd or even rows in matrix.\n",
    "Mat = [[ 1,2,3,4],\n",
    "[5,6,7,8],\n",
    "[9,10,11,12],[9,10,11,12]]"
   ]
  },
  {
   "cell_type": "code",
   "execution_count": 13,
   "id": "a6ccc666-6abe-435b-9f8f-c816e223f0e7",
   "metadata": {},
   "outputs": [
    {
     "name": "stdout",
     "output_type": "stream",
     "text": [
      "1\n",
      "3\n",
      "[[1, 2, 3, 4], [8, 7, 6, 5], [9, 10, 11, 12], [12, 11, 10, 9]]\n"
     ]
    }
   ],
   "source": [
    "def manipulate_mat(Mat=[],even=True):\n",
    "\n",
    "    for i in range(0,len(Mat),2):\n",
    "        row = i\n",
    "        if even != (i%2==0) and i+1<len(Mat):\n",
    "            row = i+1\n",
    "        print(row)\n",
    "        Mat[row] = Mat[row][::-1]\n",
    "    return Mat\n",
    "\n",
    "print(manipulate_mat(Mat,False))"
   ]
  },
  {
   "cell_type": "code",
   "execution_count": null,
   "id": "d006a160-4b27-4ec7-9071-d20994d0e573",
   "metadata": {},
   "outputs": [],
   "source": [
    "# Given a string of size n, write functions to perform following operations on string.\n",
    "# Left (Or anticlockwise) rotate the given string by d elements (where d <= n).\n",
    "# Right (Or clockwise) rotate the given string by d elements (where d <= n).\n",
    "# Examples:\n",
    "# \n",
    "# Input : s = \"whatismyname\"\n",
    "#         d = 2\n",
    "# Output : Left Rotation  : \"atismynamewh\" \n",
    "#          Right Rotation : \"mewhatismyna\"  \n",
    "# Input : s = \"qwertyu\" \n",
    "#         d = 2\n",
    "# Output : Left rotation : \"ertyuqw\"\n",
    "#          Right rotation : \"yuqwert"
   ]
  },
  {
   "cell_type": "code",
   "execution_count": 15,
   "id": "039ea274-0f62-4ede-8278-868df2f3146b",
   "metadata": {},
   "outputs": [
    {
     "name": "stdout",
     "output_type": "stream",
     "text": [
      "right rotation yuqwert\n",
      "left rotation ertyuqw\n"
     ]
    }
   ],
   "source": [
    "s = \"qwertyu\"\n",
    "d = 2\n",
    "def rot(s,d,r=True):\n",
    "    if not r:\n",
    "        return s[d:]+s[:d]\n",
    "    else:\n",
    "        return s[-2:]+s[:-2]\n",
    "print(\"right rotation\",rot(s,d,True))\n",
    "print(\"left rotation\",rot(s,d,False))"
   ]
  },
  {
   "cell_type": "code",
   "execution_count": 16,
   "id": "690df154-7018-4c30-8416-2e90d7f1a13f",
   "metadata": {},
   "outputs": [],
   "source": [
    "# Write a function to generate a matrix of size n,m. The centermost elements should be 1, as me move towards the outer elements, the value should increment by 1. For example.\n",
    "# For a 3x3 matrix\n",
    "# [[2,2,2],\n",
    "# [2,1,2],\n",
    "# [2,2,2],]\n",
    "# For 4x4 Matrix\n",
    "# [[2, 2, 2, 2],\n",
    "# [2, 1, 1, 2],\n",
    "# [2, 1, 1, 2],\n",
    "# [2, 2, 2, 2],]\n",
    "# For 5x5 Matrix(\n",
    "# [[3, 3, 3, 3 ,3]\n",
    "# [3, 2, 2, 2, 3]\n",
    "# [3, 2, 1, 2, 3]\n",
    "# [3, 2, 2, 2 ,3]\n",
    "# [3, 3, 3, 3 ,3] ]"
   ]
  },
  {
   "cell_type": "code",
   "execution_count": 17,
   "id": "5170be47-91f6-4512-9056-bacbbfad8548",
   "metadata": {},
   "outputs": [
    {
     "data": {
      "text/plain": [
       "<function id(obj, /)>"
      ]
     },
     "execution_count": 17,
     "metadata": {},
     "output_type": "execute_result"
    }
   ],
   "source": [
    "idxs = (0,0),(0,1),(0,2),(1,2),(2,2),(2,1),(2,0),(1,0),(1,1)\n",
    "idxs = (0,0),(0,1),(0,2),(0,3),(1,3),(2,3),(3,3),(3,2),(3,1),(3,0),(2,0),(1,0)"
   ]
  },
  {
   "cell_type": "code",
   "execution_count": 50,
   "id": "25b9a5cd-c8c9-4410-8358-62432988185c",
   "metadata": {},
   "outputs": [
    {
     "name": "stdout",
     "output_type": "stream",
     "text": [
      "10\n",
      "[[1. 1. 1. 1. 1. 1. 1. 1. 1. 1.]\n",
      " [1. 2. 2. 2. 2. 2. 2. 2. 2. 1.]\n",
      " [1. 2. 3. 3. 3. 3. 3. 3. 2. 1.]\n",
      " [1. 2. 3. 4. 4. 4. 4. 3. 2. 1.]\n",
      " [1. 2. 3. 4. 5. 5. 4. 3. 2. 1.]\n",
      " [1. 2. 3. 4. 5. 5. 4. 3. 2. 1.]\n",
      " [1. 2. 3. 4. 4. 4. 4. 3. 2. 1.]\n",
      " [1. 2. 3. 3. 3. 3. 3. 3. 2. 1.]\n",
      " [1. 2. 2. 2. 2. 2. 2. 2. 2. 1.]\n",
      " [1. 1. 1. 1. 1. 1. 1. 1. 1. 1.]]\n"
     ]
    }
   ],
   "source": [
    "def get_idx(start,n):\n",
    "    m = [(start,i) for i in range(start,n)]\n",
    "    for i in range(start+1,n):\n",
    "        m.append((i,n-1))\n",
    "    m =m+[(i[-1],i[-2]) for i in m[1:-1]][::-1]\n",
    "    return m\n",
    "mat =10\n",
    "total_layers= round(mat+1/2)\n",
    "print(total_layers)\n",
    "import numpy as np\n",
    "mm = np.eye(mat,mat)\n",
    "for j in range(total_layers):\n",
    "    idxs = get_idx(0+j,mat-j)\n",
    "    for ii in idxs:\n",
    "        mm[ii[0],ii[1]] = j+1\n",
    "        \n",
    "print(mm)\n"
   ]
  },
  {
   "cell_type": "code",
   "execution_count": 71,
   "id": "20aef96d-41ea-486a-ba07-c3e7e407d8bd",
   "metadata": {},
   "outputs": [],
   "source": []
  },
  {
   "cell_type": "code",
   "execution_count": 77,
   "id": "28f2dfd0-923e-43a4-92be-5ee3dac93308",
   "metadata": {},
   "outputs": [
    {
     "name": "stdout",
     "output_type": "stream",
     "text": [
      " 12/32-2*10+20\n"
     ]
    }
   ],
   "source": [
    "input_str = \"12+32*2-10/20\"\n",
    "str1 = \"\"\n",
    "for j,i in enumerate(input_str):\n",
    "    if not i.isnumeric():\n",
    "        str1+=i\n",
    "        input_str =input_str[:j]+\" \"+input_str[j+1:]\n",
    "str1 = str1[::-1]\n",
    "for j,i in enumerate(input_str):\n",
    "    if i == \" \":\n",
    "        ss = str1[0]\n",
    "        str1 = str1[1:]\n",
    "        input_str =input_str[:j]+ss+input_str[j+1:]\n",
    "print(str1,input_str)"
   ]
  },
  {
   "cell_type": "code",
   "execution_count": 58,
   "id": "90c982db-c261-49fe-8bde-61b9f6fa2ae2",
   "metadata": {},
   "outputs": [
    {
     "ename": "TypeError",
     "evalue": "'str' object does not support item assignment",
     "output_type": "error",
     "traceback": [
      "\u001b[0;31m---------------------------------------------------------------------------\u001b[0m",
      "\u001b[0;31mTypeError\u001b[0m                                 Traceback (most recent call last)",
      "Input \u001b[0;32mIn [58]\u001b[0m, in \u001b[0;36m<cell line: 1>\u001b[0;34m()\u001b[0m\n\u001b[0;32m----> 1\u001b[0m \u001b[38;5;124m\"\u001b[39m\u001b[38;5;124mioi\u001b[39m\u001b[38;5;124m\"\u001b[39m[\u001b[38;5;241m1\u001b[39m] \u001b[38;5;241m=\u001b[39m \u001b[38;5;124m\"\u001b[39m\u001b[38;5;124mj\u001b[39m\u001b[38;5;124m\"\u001b[39m\n",
      "\u001b[0;31mTypeError\u001b[0m: 'str' object does not support item assignment"
     ]
    }
   ],
   "source": [
    "\"ioi\"[1] = \"j\""
   ]
  },
  {
   "cell_type": "code",
   "execution_count": null,
   "id": "25de3647-07dc-47cd-99ed-019b11f9e1bc",
   "metadata": {},
   "outputs": [],
   "source": []
  },
  {
   "cell_type": "code",
   "execution_count": 70,
   "id": "ae7895ae-61b6-4f3d-a956-70bb2c53352e",
   "metadata": {},
   "outputs": [
    {
     "data": {
      "text/plain": [
       "False"
      ]
     },
     "execution_count": 70,
     "metadata": {},
     "output_type": "execute_result"
    }
   ],
   "source": [
    "\"+\".isnumeric()"
   ]
  },
  {
   "cell_type": "code",
   "execution_count": 82,
   "id": "1ec4ff63-d9ec-4881-98ed-ce8b4e79887d",
   "metadata": {},
   "outputs": [
    {
     "data": {
      "text/plain": [
       "1"
      ]
     },
     "execution_count": 82,
     "metadata": {},
     "output_type": "execute_result"
    }
   ],
   "source": [
    "[1,2,3,2].index(2)"
   ]
  }
 ],
 "metadata": {
  "kernelspec": {
   "display_name": "Python 3 (ipykernel)",
   "language": "python",
   "name": "python3"
  },
  "language_info": {
   "codemirror_mode": {
    "name": "ipython",
    "version": 3
   },
   "file_extension": ".py",
   "mimetype": "text/x-python",
   "name": "python",
   "nbconvert_exporter": "python",
   "pygments_lexer": "ipython3",
   "version": "3.10.4"
  }
 },
 "nbformat": 4,
 "nbformat_minor": 5
}
