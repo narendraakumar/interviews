{
 "cells": [
  {
   "cell_type": "code",
   "execution_count": null,
   "id": "7b34e43b",
   "metadata": {},
   "outputs": [],
   "source": [
    "Input_var = [5, 4, 3, 2, 1, 11, 10, 14, 13, 12, 9]\n",
    "Input_var = input_var.sort()\n",
    "\n",
    "max_len = 0\n",
    "temp_len = 1\n",
    "For i,j in zip(input_var[:-1],input_var[1:]):\n",
    "\t\n",
    "\tIf i-j ==1:\n",
    "\t\ttemp_len+=1\n",
    "\tElse:\n",
    "\t\tIf max_len<temp_len:\n",
    "\t\t\tMax_len = temp_len\n",
    "\t\t\tTemp_len = 1\n",
    "\t\tElse:\n",
    "\t\t\tTemp_len = 1"
   ]
  }
 ],
 "metadata": {
  "kernelspec": {
   "display_name": "yolov3-tf2",
   "language": "python",
   "name": "yolov3-tf2"
  }
 },
 "nbformat": 4,
 "nbformat_minor": 5
}
