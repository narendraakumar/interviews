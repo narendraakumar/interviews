{
 "cells": [
  {
   "cell_type": "code",
   "execution_count": null,
   "id": "3fad286b",
   "metadata": {},
   "outputs": [],
   "source": [
    "Given an array of integers nums and an integer target, return indices of the two numbers such that they add up to target.\n",
    "\n",
    " \n",
    "\n",
    "You may assume that each input would have exactly one solution, and you may not use the same element twice and there are no duplicates.\n",
    "\n",
    " \n",
    "\n",
    "You can return the answer in any order."
   ]
  },
  {
   "cell_type": "code",
   "execution_count": 3,
   "id": "b956988b",
   "metadata": {},
   "outputs": [
    {
     "name": "stdout",
     "output_type": "stream",
     "text": [
      "[0, 1]\n",
      "[1, 0]\n"
     ]
    }
   ],
   "source": [
    "l1 = [2,7,11,19]\n",
    "tar = 9\n",
    "\n",
    "\n",
    "for i in l1:\n",
    "    for j in l1:\n",
    "        if i+j ==tar:\n",
    "            print( [l1.index(i),l1.index(j)])\n",
    "            break\n",
    "    "
   ]
  },
  {
   "cell_type": "code",
   "execution_count": 1,
   "id": "8dd0121d",
   "metadata": {},
   "outputs": [
    {
     "data": {
      "text/plain": [
       "0"
      ]
     },
     "execution_count": 1,
     "metadata": {},
     "output_type": "execute_result"
    }
   ],
   "source": [
    "[2,7,11,19].index(2)"
   ]
  },
  {
   "cell_type": "code",
   "execution_count": null,
   "id": "26f537b1",
   "metadata": {},
   "outputs": [],
   "source": [
    "l1 = [2,71,11,19,7]\n",
    "tar = 9\n",
    "for k, i in enumerate(l1):\n",
    "    first_num = i#2\n",
    "    second_num = tar-i#7\n",
    "    \n"
   ]
  }
 ],
 "metadata": {
  "kernelspec": {
   "display_name": "Python 3 (ipykernel)",
   "language": "python",
   "name": "python3"
  },
  "language_info": {
   "codemirror_mode": {
    "name": "ipython",
    "version": 3
   },
   "file_extension": ".py",
   "mimetype": "text/x-python",
   "name": "python",
   "nbconvert_exporter": "python",
   "pygments_lexer": "ipython3",
   "version": "3.10.4"
  }
 },
 "nbformat": 4,
 "nbformat_minor": 5
}
