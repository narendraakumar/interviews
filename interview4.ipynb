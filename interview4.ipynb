{
 "cells": [
  {
   "cell_type": "code",
   "execution_count": 1,
   "id": "12ec44ba",
   "metadata": {},
   "outputs": [],
   "source": [
    "a = 9"
   ]
  },
  {
   "cell_type": "code",
   "execution_count": 2,
   "id": "a3a5d3f7",
   "metadata": {},
   "outputs": [],
   "source": [
    "b = a"
   ]
  },
  {
   "cell_type": "code",
   "execution_count": 26,
   "id": "0cb4a373",
   "metadata": {},
   "outputs": [],
   "source": [
    "a = [3,4,5,7,8,10,12]"
   ]
  },
  {
   "cell_type": "code",
   "execution_count": 27,
   "id": "747440e0",
   "metadata": {},
   "outputs": [],
   "source": [
    "ma = [10,12,3,4,5,7,8]"
   ]
  },
  {
   "cell_type": "code",
   "execution_count": 28,
   "id": "b6dad0d6",
   "metadata": {},
   "outputs": [
    {
     "name": "stdout",
     "output_type": "stream",
     "text": [
      "[3, 4, 5, 7, 8, 10, 12]\n"
     ]
    }
   ],
   "source": [
    "def shift(a,ele):\n",
    "    for i in range(len(a)-1):\n",
    "        a[i] = a[i+1]\n",
    "    a[-1] = ele\n",
    "    return a\n",
    "\n",
    "def foo(ma):\n",
    "    idx = 0\n",
    "    for i in range(len(ma)-1):\n",
    "        if ma[i]>ma[i+1]:\n",
    "            idx = i+1\n",
    "    \n",
    "    for ele in ma[:idx]:\n",
    "        ma = shift(ma,ele)\n",
    "    \n",
    "    return ma\n",
    "    \n",
    "\n",
    "print(foo(ma))\n",
    "            \n",
    "        "
   ]
  },
  {
   "cell_type": "code",
   "execution_count": null,
   "id": "ee157241",
   "metadata": {},
   "outputs": [],
   "source": [
    "1>5>10>3>7\n",
    "1<5>10>3>7\n",
    "1<5<10>3>7\n",
    "1<5<10<3<7"
   ]
  },
  {
   "cell_type": "code",
   "execution_count": null,
   "id": "af9594d3",
   "metadata": {},
   "outputs": [],
   "source": [
    "def ger_depest_node(root):\n",
    "    deepest_node = None\n",
    "    all_nodes = []\n",
    "    temp_node = None\n",
    "    while deepest_node is not None:\n",
    "        temp_node = root\n",
    "        all_nodes.append(root.next)\n",
    "        deepest_node = root.next\n",
    "    \n",
    "    return deepest_node\n",
    "    \n",
    "        \n",
    "    \n",
    "    \n",
    "    \n",
    "    \n",
    "    "
   ]
  }
 ],
 "metadata": {
  "kernelspec": {
   "display_name": "Python 3 (ipykernel)",
   "language": "python",
   "name": "python3"
  },
  "language_info": {
   "codemirror_mode": {
    "name": "ipython",
    "version": 3
   },
   "file_extension": ".py",
   "mimetype": "text/x-python",
   "name": "python",
   "nbconvert_exporter": "python",
   "pygments_lexer": "ipython3",
   "version": "3.10.6"
  }
 },
 "nbformat": 4,
 "nbformat_minor": 5
}
