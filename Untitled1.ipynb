{
 "cells": [
  {
   "cell_type": "code",
   "execution_count": 9,
   "id": "54b9fa3c",
   "metadata": {},
   "outputs": [
    {
     "name": "stdout",
     "output_type": "stream",
     "text": [
      "naredrkmar\n"
     ]
    }
   ],
   "source": [
    "var_s = \"narendrakumar\"\n",
    "vars_2 = \"narendrakumar\"\n",
    "chars = []\n",
    "chars2 = []\n",
    "for i,s in enumerate(var_s):\n",
    "    if s in chars:\n",
    "        vars_2  = vars_2[:i]+vars_2[i+1:]\n",
    "    else:\n",
    "        chars.append(s)\n",
    "print(vars_2)"
   ]
  },
  {
   "cell_type": "code",
   "execution_count": 4,
   "id": "10e05252",
   "metadata": {},
   "outputs": [
    {
     "data": {
      "text/plain": [
       "'nrendrakumar'"
      ]
     },
     "execution_count": 4,
     "metadata": {},
     "output_type": "execute_result"
    }
   ],
   "source": [
    "var_s[:2-1]+var_s[2:]"
   ]
  },
  {
   "cell_type": "code",
   "execution_count": 3,
   "id": "2b93c9a4",
   "metadata": {},
   "outputs": [],
   "source": [
    "var_s = \"narendrakumar\""
   ]
  },
  {
   "cell_type": "code",
   "execution_count": 12,
   "id": "51810c78",
   "metadata": {},
   "outputs": [],
   "source": [
    "c = {}\n",
    "for s in var_s:\n",
    "    if s in c:\n",
    "        c[s] += 1\n",
    "    else:\n",
    "        c[s]=1\n",
    "        "
   ]
  },
  {
   "cell_type": "code",
   "execution_count": 13,
   "id": "32f38806",
   "metadata": {},
   "outputs": [
    {
     "data": {
      "text/plain": [
       "{'n': 2, 'a': 3, 'r': 3, 'e': 1, 'd': 1, 'k': 1, 'u': 1, 'm': 1}"
      ]
     },
     "execution_count": 13,
     "metadata": {},
     "output_type": "execute_result"
    }
   ],
   "source": [
    "c"
   ]
  },
  {
   "cell_type": "code",
   "execution_count": 16,
   "id": "879e25ff",
   "metadata": {},
   "outputs": [],
   "source": [
    "var_s1 = list(set(var_s))+[i*(c[i]-1) for i in c if c[i]>1]"
   ]
  },
  {
   "cell_type": "code",
   "execution_count": 17,
   "id": "86fbbba8",
   "metadata": {},
   "outputs": [
    {
     "data": {
      "text/plain": [
       "'kndreaumnaarr'"
      ]
     },
     "execution_count": 17,
     "metadata": {},
     "output_type": "execute_result"
    }
   ],
   "source": [
    "\"\".join(var_s1)"
   ]
  },
  {
   "cell_type": "code",
   "execution_count": null,
   "id": "a8c47c84",
   "metadata": {},
   "outputs": [],
   "source": [
    "select DESIGNATION from table sort DECS "
   ]
  }
 ],
 "metadata": {
  "kernelspec": {
   "display_name": "Python 3 (ipykernel)",
   "language": "python",
   "name": "python3"
  },
  "language_info": {
   "codemirror_mode": {
    "name": "ipython",
    "version": 3
   },
   "file_extension": ".py",
   "mimetype": "text/x-python",
   "name": "python",
   "nbconvert_exporter": "python",
   "pygments_lexer": "ipython3",
   "version": "3.10.4"
  }
 },
 "nbformat": 4,
 "nbformat_minor": 5
}
