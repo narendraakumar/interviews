{
 "cells": [
  {
   "cell_type": "code",
   "execution_count": 1,
   "id": "947f8c68",
   "metadata": {},
   "outputs": [],
   "source": [
    "str1 = \"I @love @hyderabad\"\n",
    "str2 = \"I @love @India\"\n",
    "\n",
    "# remove @ and return a list with common words and uncommon words"
   ]
  },
  {
   "cell_type": "code",
   "execution_count": 3,
   "id": "b2f2075d",
   "metadata": {},
   "outputs": [],
   "source": [
    "str1_list = str1.split(\" @\")\n",
    "str2_list = str2.split(\" @\")"
   ]
  },
  {
   "cell_type": "code",
   "execution_count": 6,
   "id": "881ea538",
   "metadata": {},
   "outputs": [
    {
     "name": "stdout",
     "output_type": "stream",
     "text": [
      "commonwords ['I', 'love']\n",
      "uncommonwords ['hyderabad', 'India']\n"
     ]
    }
   ],
   "source": [
    "common_words = []\n",
    "uncommon_words = []\n",
    "\n",
    "for s in str1_list:\n",
    "    if s in str2_list:\n",
    "        common_words.append(s)\n",
    "    else:\n",
    "        uncommon_words.append(s)\n",
    "        \n",
    "for s in str2_list:\n",
    "    if s in str1_list:\n",
    "        continue\n",
    "    else:\n",
    "        uncommon_words.append(s)\n",
    "        \n",
    "print(\"commonwords\",common_words)\n",
    "print(\"uncommonwords\",uncommon_words)\n",
    "\n",
    "# refine algo"
   ]
  },
  {
   "cell_type": "code",
   "execution_count": 7,
   "id": "415e998c",
   "metadata": {},
   "outputs": [
    {
     "name": "stdout",
     "output_type": "stream",
     "text": [
      "['Beta', 'Alpha']\n",
      "['Beta']\n"
     ]
    }
   ],
   "source": [
    "# Initialize list\n",
    "List = ['Alpha', 4, 'Beta']\n",
    " \n",
    "# Display sliced list\n",
    "print(List[::-2])\n",
    " \n",
    "# Display sliced list\n",
    "\n",
    "print(List[:1:-2])\n",
    "\n",
    "#do not execute it just predict output"
   ]
  },
  {
   "cell_type": "code",
   "execution_count": null,
   "id": "98441608",
   "metadata": {},
   "outputs": [],
   "source": [
    "['Beta','Alpha']\n",
    "['Alpha']"
   ]
  },
  {
   "cell_type": "code",
   "execution_count": 8,
   "id": "de7c3190",
   "metadata": {},
   "outputs": [
    {
     "data": {
      "text/plain": [
       "['Beta']"
      ]
     },
     "execution_count": 8,
     "metadata": {},
     "output_type": "execute_result"
    }
   ],
   "source": [
    "['Alpha', 4, 'Beta'][:1:-2]"
   ]
  },
  {
   "cell_type": "code",
   "execution_count": 11,
   "id": "cbed0246",
   "metadata": {},
   "outputs": [],
   "source": [
    "# Input list\n",
    "My_list = [['Abc', 1], ['Abc', 2], ['at', 3], ['best', 4], ['at', 5]]\n",
    "\n",
    "Grouped_Output = {'Abc': [1, 2], 'at': [3, 5], 'best': [4]}"
   ]
  },
  {
   "cell_type": "code",
   "execution_count": 13,
   "id": "f3b3933a",
   "metadata": {},
   "outputs": [
    {
     "name": "stdout",
     "output_type": "stream",
     "text": [
      "{'Abc': [1, 2], 'at': [3, 5], 'best': [4]}\n"
     ]
    }
   ],
   "source": [
    "opt = {}\n",
    "for e in My_list:\n",
    "    k = e[0]\n",
    "    v = e[1]\n",
    "    if k in opt:\n",
    "        opt[k].append(v)\n",
    "    else:\n",
    "        opt[k] = [v]\n",
    "print(opt)"
   ]
  },
  {
   "cell_type": "code",
   "execution_count": null,
   "id": "1066f519",
   "metadata": {},
   "outputs": [],
   "source": [
    "1 -2\n",
    "-2 1"
   ]
  }
 ],
 "metadata": {
  "kernelspec": {
   "display_name": "Python 3 (ipykernel)",
   "language": "python",
   "name": "python3"
  },
  "language_info": {
   "codemirror_mode": {
    "name": "ipython",
    "version": 3
   },
   "file_extension": ".py",
   "mimetype": "text/x-python",
   "name": "python",
   "nbconvert_exporter": "python",
   "pygments_lexer": "ipython3",
   "version": "3.10.4"
  }
 },
 "nbformat": 4,
 "nbformat_minor": 5
}
