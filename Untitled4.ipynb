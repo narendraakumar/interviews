{
 "cells": [
  {
   "cell_type": "code",
   "execution_count": 1,
   "id": "5d0170a9",
   "metadata": {},
   "outputs": [],
   "source": [
    "var_l = [(1,2),(3,4),(5,6),(7,8)]"
   ]
  },
  {
   "cell_type": "code",
   "execution_count": null,
   "id": "b73c7d9c",
   "metadata": {},
   "outputs": [],
   "source": [
    "def list_format():\n",
    "    opt_list = []\n",
    "    "
   ]
  },
  {
   "cell_type": "code",
   "execution_count": 2,
   "id": "b700489d",
   "metadata": {},
   "outputs": [
    {
     "data": {
      "text/plain": [
       "[(1, 2), (3, 4), (5, 6), (7, 8)]"
      ]
     },
     "execution_count": 2,
     "metadata": {},
     "output_type": "execute_result"
    }
   ],
   "source": [
    "def var\n",
    "    v = 9\n",
    "    [(i,i+1) for i in range(1,v,2)]"
   ]
  },
  {
   "cell_type": "code",
   "execution_count": 3,
   "id": "f21145a5",
   "metadata": {},
   "outputs": [],
   "source": [
    "ans_list = [(2,1),(4,3),(6,5),(8,7)]"
   ]
  },
  {
   "cell_type": "code",
   "execution_count": 5,
   "id": "faccbaab",
   "metadata": {},
   "outputs": [
    {
     "data": {
      "text/plain": [
       "[(2, 1), (4, 3), (6, 5), (8, 7)]"
      ]
     },
     "execution_count": 5,
     "metadata": {},
     "output_type": "execute_result"
    }
   ],
   "source": [
    "[(j[-1],j[-2]) for j in var_l]"
   ]
  },
  {
   "cell_type": "code",
   "execution_count": null,
   "id": "ac5f7dcb",
   "metadata": {},
   "outputs": [],
   "source": []
  }
 ],
 "metadata": {
  "kernelspec": {
   "display_name": "Python 3 (ipykernel)",
   "language": "python",
   "name": "python3"
  },
  "language_info": {
   "codemirror_mode": {
    "name": "ipython",
    "version": 3
   },
   "file_extension": ".py",
   "mimetype": "text/x-python",
   "name": "python",
   "nbconvert_exporter": "python",
   "pygments_lexer": "ipython3",
   "version": "3.10.4"
  }
 },
 "nbformat": 4,
 "nbformat_minor": 5
}
