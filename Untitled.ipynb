{
 "cells": [
  {
   "cell_type": "code",
   "execution_count": 1,
   "id": "a85a46a9",
   "metadata": {},
   "outputs": [],
   "source": [
    "l1 = [3,8,11]\n",
    "l2 = [5,9,10,12]"
   ]
  },
  {
   "cell_type": "code",
   "execution_count": 4,
   "id": "f5df09ac",
   "metadata": {},
   "outputs": [
    {
     "name": "stdout",
     "output_type": "stream",
     "text": [
      "[3, 5, 8, 9, 10, 11, 12]\n"
     ]
    }
   ],
   "source": [
    "n1=len(l1)\n",
    "n2=len(l2)\n",
    "i=0\n",
    "j=0\n",
    "res=[]\n",
    "while i<n1 and j<n2:\n",
    "    if(l1[i]<l2[j]):\n",
    "        res.append(l1[i])\n",
    "        i+=1\n",
    "    else:\n",
    "        res.append(l2[j])\n",
    "        j+=1\n",
    "while i<n1:\n",
    "    res.append(l1[i])\n",
    "    i+=1\n",
    "while j<n2:\n",
    "    res.append(l2[j])\n",
    "    j+=1\n",
    "print(res)"
   ]
  },
  {
   "cell_type": "code",
   "execution_count": 10,
   "id": "7c3e3187",
   "metadata": {},
   "outputs": [
    {
     "name": "stdout",
     "output_type": "stream",
     "text": [
      "[0, 0, 0, 1]\n",
      "[0, 0, 0, 1]\n",
      "[0, 0, 0, 1]\n",
      "[0, 0, 0, 1]\n"
     ]
    }
   ],
   "source": [
    "arr=[1,0,0,1]\n",
    "i=0\n",
    "n=len(arr)\n",
    "while i<len(arr)-1:\n",
    "    if(arr[i]==1):\n",
    "        arr[i]=arr[i+1]\n",
    "    print(arr)\n",
    "    i+=1\n",
    "print(arr)"
   ]
  },
  {
   "cell_type": "code",
   "execution_count": 11,
   "id": "295e4c89",
   "metadata": {},
   "outputs": [],
   "source": [
    "mat = [[1,2,3],[3,4,5],[4,5,6]]"
   ]
  },
  {
   "cell_type": "code",
   "execution_count": null,
   "id": "cb6bc8b6",
   "metadata": {},
   "outputs": [],
   "source": []
  },
  {
   "cell_type": "code",
   "execution_count": 13,
   "id": "35e280b8",
   "metadata": {},
   "outputs": [
    {
     "name": "stdout",
     "output_type": "stream",
     "text": [
      "[[1, 2, 3], [3, 4, 5], [4, 5, 6]]\n"
     ]
    }
   ],
   "source": [
    "print(mat)"
   ]
  },
  {
   "cell_type": "code",
   "execution_count": 14,
   "id": "562ce3a6",
   "metadata": {},
   "outputs": [
    {
     "ename": "ModuleNotFoundError",
     "evalue": "No module named 'pandas'",
     "output_type": "error",
     "traceback": [
      "\u001b[0;31m---------------------------------------------------------------------------\u001b[0m",
      "\u001b[0;31mModuleNotFoundError\u001b[0m                       Traceback (most recent call last)",
      "\u001b[0;32m/tmp/ipykernel_61033/4080736814.py\u001b[0m in \u001b[0;36m<module>\u001b[0;34m\u001b[0m\n\u001b[0;32m----> 1\u001b[0;31m \u001b[0;32mimport\u001b[0m \u001b[0mpandas\u001b[0m \u001b[0;32mas\u001b[0m \u001b[0mpd\u001b[0m\u001b[0;34m\u001b[0m\u001b[0;34m\u001b[0m\u001b[0m\n\u001b[0m",
      "\u001b[0;31mModuleNotFoundError\u001b[0m: No module named 'pandas'"
     ]
    }
   ],
   "source": [
    "import pandas as pd"
   ]
  },
  {
   "cell_type": "code",
   "execution_count": 15,
   "id": "6fa4c2d0",
   "metadata": {},
   "outputs": [
    {
     "name": "stdout",
     "output_type": "stream",
     "text": [
      "Defaulting to user installation because normal site-packages is not writeable\n",
      "Collecting pandas\n",
      "  Downloading pandas-1.5.3-cp310-cp310-manylinux_2_17_x86_64.manylinux2014_x86_64.whl (12.1 MB)\n",
      "\u001b[2K     \u001b[38;2;114;156;31m━━━━━━━━━━━━━━━━━━━━━━━━━━━━━━━━━━━━━━━━\u001b[0m \u001b[32m12.1/12.1 MB\u001b[0m \u001b[31m11.0 MB/s\u001b[0m eta \u001b[36m0:00:00\u001b[0mm eta \u001b[36m0:00:01\u001b[0m[36m0:00:01\u001b[0m\n",
      "\u001b[?25hRequirement already satisfied: numpy>=1.21.0 in /usr/lib/python3/dist-packages (from pandas) (1.21.5)\n",
      "Requirement already satisfied: pytz>=2020.1 in /usr/lib/python3/dist-packages (from pandas) (2022.1)\n",
      "Requirement already satisfied: python-dateutil>=2.8.1 in /usr/lib/python3/dist-packages (from pandas) (2.8.1)\n",
      "Installing collected packages: pandas\n",
      "Successfully installed pandas-1.5.3\n"
     ]
    }
   ],
   "source": [
    "!pip3 install pandas"
   ]
  },
  {
   "cell_type": "code",
   "execution_count": 16,
   "id": "f751a9f4",
   "metadata": {},
   "outputs": [],
   "source": [
    "import pandas as pd"
   ]
  },
  {
   "cell_type": "code",
   "execution_count": 17,
   "id": "c4bb0004",
   "metadata": {},
   "outputs": [],
   "source": [
    "data = {\"name\":[\"p\",\"p\",\"a\",\"a\"],\"marks\":[1,2,3,4]}\n",
    "df = pd.DataFrame(data)"
   ]
  },
  {
   "cell_type": "code",
   "execution_count": 18,
   "id": "9b3fbfe5",
   "metadata": {},
   "outputs": [
    {
     "data": {
      "text/html": [
       "<div>\n",
       "<style scoped>\n",
       "    .dataframe tbody tr th:only-of-type {\n",
       "        vertical-align: middle;\n",
       "    }\n",
       "\n",
       "    .dataframe tbody tr th {\n",
       "        vertical-align: top;\n",
       "    }\n",
       "\n",
       "    .dataframe thead th {\n",
       "        text-align: right;\n",
       "    }\n",
       "</style>\n",
       "<table border=\"1\" class=\"dataframe\">\n",
       "  <thead>\n",
       "    <tr style=\"text-align: right;\">\n",
       "      <th></th>\n",
       "      <th>name</th>\n",
       "      <th>marks</th>\n",
       "    </tr>\n",
       "  </thead>\n",
       "  <tbody>\n",
       "    <tr>\n",
       "      <th>0</th>\n",
       "      <td>p</td>\n",
       "      <td>1</td>\n",
       "    </tr>\n",
       "    <tr>\n",
       "      <th>1</th>\n",
       "      <td>p</td>\n",
       "      <td>2</td>\n",
       "    </tr>\n",
       "    <tr>\n",
       "      <th>2</th>\n",
       "      <td>a</td>\n",
       "      <td>3</td>\n",
       "    </tr>\n",
       "    <tr>\n",
       "      <th>3</th>\n",
       "      <td>a</td>\n",
       "      <td>4</td>\n",
       "    </tr>\n",
       "  </tbody>\n",
       "</table>\n",
       "</div>"
      ],
      "text/plain": [
       "  name  marks\n",
       "0    p      1\n",
       "1    p      2\n",
       "2    a      3\n",
       "3    a      4"
      ]
     },
     "execution_count": 18,
     "metadata": {},
     "output_type": "execute_result"
    }
   ],
   "source": [
    "df"
   ]
  },
  {
   "cell_type": "code",
   "execution_count": 26,
   "id": "3dfb1f12",
   "metadata": {},
   "outputs": [
    {
     "data": {
      "text/plain": [
       "name\n",
       "a    7\n",
       "p    3\n",
       "Name: marks, dtype: int64"
      ]
     },
     "execution_count": 26,
     "metadata": {},
     "output_type": "execute_result"
    }
   ],
   "source": [
    "df.groupby('name')['marks'].agg(sum)"
   ]
  },
  {
   "cell_type": "code",
   "execution_count": 28,
   "id": "1c92d27b",
   "metadata": {},
   "outputs": [
    {
     "ename": "AttributeError",
     "evalue": "'DataFrame' object has no attribute 'count_duplicates'",
     "output_type": "error",
     "traceback": [
      "\u001b[0;31m---------------------------------------------------------------------------\u001b[0m",
      "\u001b[0;31mAttributeError\u001b[0m                            Traceback (most recent call last)",
      "\u001b[0;32m/tmp/ipykernel_61033/862122917.py\u001b[0m in \u001b[0;36m<module>\u001b[0;34m\u001b[0m\n\u001b[0;32m----> 1\u001b[0;31m \u001b[0mdf\u001b[0m\u001b[0;34m.\u001b[0m\u001b[0mcount_duplicates\u001b[0m\u001b[0;34m(\u001b[0m\u001b[0;34m'name'\u001b[0m\u001b[0;34m)\u001b[0m\u001b[0;34m\u001b[0m\u001b[0;34m\u001b[0m\u001b[0m\n\u001b[0m",
      "\u001b[0;32m~/.local/lib/python3.10/site-packages/pandas/core/generic.py\u001b[0m in \u001b[0;36m__getattr__\u001b[0;34m(self, name)\u001b[0m\n\u001b[1;32m   5900\u001b[0m         ):\n\u001b[1;32m   5901\u001b[0m             \u001b[0;32mreturn\u001b[0m \u001b[0mself\u001b[0m\u001b[0;34m[\u001b[0m\u001b[0mname\u001b[0m\u001b[0;34m]\u001b[0m\u001b[0;34m\u001b[0m\u001b[0;34m\u001b[0m\u001b[0m\n\u001b[0;32m-> 5902\u001b[0;31m         \u001b[0;32mreturn\u001b[0m \u001b[0mobject\u001b[0m\u001b[0;34m.\u001b[0m\u001b[0m__getattribute__\u001b[0m\u001b[0;34m(\u001b[0m\u001b[0mself\u001b[0m\u001b[0;34m,\u001b[0m \u001b[0mname\u001b[0m\u001b[0;34m)\u001b[0m\u001b[0;34m\u001b[0m\u001b[0;34m\u001b[0m\u001b[0m\n\u001b[0m\u001b[1;32m   5903\u001b[0m \u001b[0;34m\u001b[0m\u001b[0m\n\u001b[1;32m   5904\u001b[0m     \u001b[0;32mdef\u001b[0m \u001b[0m__setattr__\u001b[0m\u001b[0;34m(\u001b[0m\u001b[0mself\u001b[0m\u001b[0;34m,\u001b[0m \u001b[0mname\u001b[0m\u001b[0;34m:\u001b[0m \u001b[0mstr\u001b[0m\u001b[0;34m,\u001b[0m \u001b[0mvalue\u001b[0m\u001b[0;34m)\u001b[0m \u001b[0;34m->\u001b[0m \u001b[0;32mNone\u001b[0m\u001b[0;34m:\u001b[0m\u001b[0;34m\u001b[0m\u001b[0;34m\u001b[0m\u001b[0m\n",
      "\u001b[0;31mAttributeError\u001b[0m: 'DataFrame' object has no attribute 'count_duplicates'"
     ]
    }
   ],
   "source": [
    "df."
   ]
  },
  {
   "cell_type": "code",
   "execution_count": null,
   "id": "fb818511",
   "metadata": {},
   "outputs": [],
   "source": []
  },
  {
   "cell_type": "code",
   "execution_count": 37,
   "id": "a5c94680",
   "metadata": {},
   "outputs": [
    {
     "ename": "SyntaxError",
     "evalue": "'return' outside function (853282895.py, line 7)",
     "output_type": "error",
     "traceback": [
      "\u001b[0;36m  File \u001b[0;32m\"/tmp/ipykernel_61033/853282895.py\"\u001b[0;36m, line \u001b[0;32m7\u001b[0m\n\u001b[0;31m    return var1\u001b[0m\n\u001b[0m    ^\u001b[0m\n\u001b[0;31mSyntaxError\u001b[0m\u001b[0;31m:\u001b[0m 'return' outside function\n"
     ]
    }
   ],
   "source": [
    "var  = \"100100001110101\"\n",
    "v\n",
    "def samp(var1):\n",
    "    for i in range(len(var1)):\n",
    "        for j in range(i+1,len(var1)):\n",
    "            if var1[i] > var1[j]:\n",
    "                var1[i],var1[j] = var1[j],var1[i]\n",
    "        return v\n",
    "    \n",
    "\n",
    "            \n",
    "        "
   ]
  },
  {
   "cell_type": "code",
   "execution_count": 39,
   "id": "0fb2db73",
   "metadata": {},
   "outputs": [],
   "source": [
    "def prime(n,):\n",
    "    if n < 1:\n",
    "        return False\n",
    "    if n%2 == 0:\n",
    "        return True\n",
    "    \n",
    "prime(7)\n",
    "        \n",
    "        \n",
    "    "
   ]
  },
  {
   "cell_type": "code",
   "execution_count": 49,
   "id": "4d74533b",
   "metadata": {},
   "outputs": [],
   "source": [
    "\n",
    "\n",
    "def deep_update(source, overrides):\n",
    "    \"\"\"\n",
    "    Update a nested dictionary or similar mapping.\n",
    "    Modify ``source`` in place.\n",
    "    \"\"\"\n",
    "    for key, value in overrides.items():\n",
    "        if isinstance(value, dict) and value:\n",
    "            returned = deep_update(source.get(key, {}), value)\n",
    "            source[key] = returned\n",
    "        else:\n",
    "            source[key] = overrides[key]\n",
    "    return source"
   ]
  },
  {
   "cell_type": "code",
   "execution_count": 50,
   "id": "1e4167b8",
   "metadata": {},
   "outputs": [],
   "source": [
    "def test_deep_update():\n",
    "    source = {'hello1': 1}\n",
    "    overrides = {'hello2': 2}\n",
    "    deep_update(source, overrides)\n",
    "    assert source == {'hello1': 1, 'hello2': 2}\n",
    "\n",
    "    source = {'hello': 'to_override'}\n",
    "    overrides = {'hello': 'over'}\n",
    "    deep_update(source, overrides)\n",
    "    assert source == {'hello': 'over'}\n",
    "\n",
    "    source = {'hello': {'value': 'to_override', 'no_change': 1}}\n",
    "    overrides = {'hello': {'value': 'over'}}\n",
    "    deep_update(source, overrides)\n",
    "    assert source == {'hello': {'value': 'over', 'no_change': 1}}\n",
    "\n",
    "    source = {'hello': {'value': 'to_override', 'no_change': 1}}\n",
    "    overrides = {'hello': {'value': {}}}\n",
    "    deep_update(source, overrides)\n",
    "    assert source == {'hello': {'value': {}, 'no_change': 1}}\n",
    "\n",
    "    source = {'hello': {'value': {}, 'no_change': 1}}\n",
    "    overrides = {'hello': {'value': 2}}\n",
    "    deep_update(source, overrides)\n",
    "    assert source == {'hello': {'value': 2, 'no_change': 1}}"
   ]
  },
  {
   "cell_type": "code",
   "execution_count": 51,
   "id": "d325bf4e",
   "metadata": {},
   "outputs": [],
   "source": [
    "test_deep_update()"
   ]
  },
  {
   "cell_type": "code",
   "execution_count": null,
   "id": "19126983",
   "metadata": {},
   "outputs": [],
   "source": []
  }
 ],
 "metadata": {
  "kernelspec": {
   "display_name": "Python 3 (ipykernel)",
   "language": "python",
   "name": "python3"
  },
  "language_info": {
   "codemirror_mode": {
    "name": "ipython",
    "version": 3
   },
   "file_extension": ".py",
   "mimetype": "text/x-python",
   "name": "python",
   "nbconvert_exporter": "python",
   "pygments_lexer": "ipython3",
   "version": "3.10.6"
  }
 },
 "nbformat": 4,
 "nbformat_minor": 5
}
