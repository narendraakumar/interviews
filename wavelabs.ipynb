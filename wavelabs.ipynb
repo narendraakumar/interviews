{
 "cells": [
  {
   "cell_type": "code",
   "execution_count": 7,
   "id": "a7bd0d14",
   "metadata": {},
   "outputs": [],
   "source": [
    "first_50 = [n for n in range(51)]\n",
    "first_50sqrd = [n**2 for n in range(51)]"
   ]
  },
  {
   "cell_type": "code",
   "execution_count": 18,
   "id": "392af922",
   "metadata": {},
   "outputs": [
    {
     "name": "stdout",
     "output_type": "stream",
     "text": [
      "(1, 1)\n",
      "(3, 9)\n",
      "(5, 25)\n",
      "(7, 49)\n",
      "(9, 81)\n",
      "(11, 121)\n",
      "(13, 169)\n",
      "(15, 225)\n",
      "(17, 289)\n",
      "(19, 361)\n",
      "(21, 441)\n",
      "(23, 529)\n",
      "(25, 625)\n",
      "(27, 729)\n",
      "(29, 841)\n",
      "(31, 961)\n",
      "(33, 1089)\n",
      "(35, 1225)\n",
      "(37, 1369)\n",
      "(39, 1521)\n",
      "(41, 1681)\n",
      "(43, 1849)\n",
      "(45, 2025)\n",
      "(47, 2209)\n",
      "(49, 2401)\n"
     ]
    }
   ],
   "source": [
    "def sum_digit(n):\n",
    "    y = 0\n",
    "    while n != 0:\n",
    "        y+=n%(10**len(str(n)))\n",
    "        n = n//(10**len(str(n)))\n",
    "    return y%2==1\n",
    "\n",
    "for i,n in zip(first_50,first_50sqrd):\n",
    "    if sum_digit(n):\n",
    "        print((i,n))\n",
    "    "
   ]
  },
  {
   "cell_type": "code",
   "execution_count": 14,
   "id": "32f221cc",
   "metadata": {},
   "outputs": [
    {
     "name": "stdout",
     "output_type": "stream",
     "text": [
      "(1, 1)\n",
      "(3, 9)\n",
      "(4, 16)\n",
      "(5, 25)\n",
      "(6, 36)\n",
      "(7, 49)\n",
      "(9, 81)\n",
      "(10, 100)\n",
      "(12, 144)\n",
      "(15, 225)\n",
      "(16, 256)\n",
      "(17, 289)\n",
      "(18, 324)\n",
      "(21, 441)\n",
      "(25, 625)\n",
      "(26, 676)\n",
      "(28, 784)\n",
      "(29, 841)\n",
      "(30, 900)\n",
      "(32, 1024)\n",
      "(34, 1156)\n",
      "(37, 1369)\n",
      "(38, 1444)\n",
      "(39, 1521)\n",
      "(40, 1600)\n",
      "(44, 1936)\n",
      "(45, 2025)\n",
      "(47, 2209)\n",
      "(48, 2304)\n",
      "(49, 2401)\n",
      "(50, 2500)\n"
     ]
    }
   ],
   "source": [
    "def sum_digit(n):\n",
    "    \n",
    "    return sum([int(i) for i in str(n)])%2==1\n",
    "\n",
    "for i,n in zip(first_50,first_50sqrd):\n",
    "    if sum_digit(n):\n",
    "        print((i,n))\n",
    "    "
   ]
  },
  {
   "cell_type": "code",
   "execution_count": 21,
   "id": "d2479e00",
   "metadata": {},
   "outputs": [
    {
     "name": "stdout",
     "output_type": "stream",
     "text": [
      "16\n",
      "16\n"
     ]
    },
    {
     "data": {
      "text/plain": [
       "False"
      ]
     },
     "execution_count": 21,
     "metadata": {},
     "output_type": "execute_result"
    }
   ],
   "source": [
    "def sum_digit(n):\n",
    "    y = 0\n",
    "    while n != 0:\n",
    "        print(n)\n",
    "        t = n%(10**(len(str(n)))-1)\n",
    "        print(t)\n",
    "        y+=t\n",
    "        n = n//(10**(len(str(n)))-1)\n",
    "    return y%2==1\n",
    "sum_digit(16)"
   ]
  },
  {
   "cell_type": "code",
   "execution_count": null,
   "id": "d56ae4fe",
   "metadata": {},
   "outputs": [],
   "source": []
  },
  {
   "cell_type": "code",
   "execution_count": null,
   "id": "3dc1bd95",
   "metadata": {},
   "outputs": [],
   "source": []
  }
 ],
 "metadata": {
  "kernelspec": {
   "display_name": "Python 3 (ipykernel)",
   "language": "python",
   "name": "python3"
  },
  "language_info": {
   "codemirror_mode": {
    "name": "ipython",
    "version": 3
   },
   "file_extension": ".py",
   "mimetype": "text/x-python",
   "name": "python",
   "nbconvert_exporter": "python",
   "pygments_lexer": "ipython3",
   "version": "3.10.4"
  }
 },
 "nbformat": 4,
 "nbformat_minor": 5
}
