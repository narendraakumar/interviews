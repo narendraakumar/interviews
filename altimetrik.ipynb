{
 "cells": [
  {
   "cell_type": "code",
   "execution_count": 11,
   "id": "5fe9ca89",
   "metadata": {},
   "outputs": [
    {
     "name": "stdout",
     "output_type": "stream",
     "text": [
      "0\n",
      "1\n",
      "1\n",
      "2\n",
      "3\n",
      "5\n",
      "8\n",
      "13\n",
      "21\n",
      "34\n"
     ]
    }
   ],
   "source": [
    "f_s = [0,1,1,2,3,5,8]\n",
    "\n",
    "def feb(n):\n",
    "    a = 0\n",
    "    b = 1\n",
    "    c = None\n",
    "    if n == 0:\n",
    "        print(a)\n",
    "    elif n ==1:\n",
    "        print(b)\n",
    "    else:\n",
    "        for i in range(n-1):\n",
    "            c = a+b\n",
    "            a = b\n",
    "            b = c\n",
    "        print(b)\n",
    "\n",
    "for i in range(10):\n",
    "    feb(i)\n"
   ]
  },
  {
   "cell_type": "code",
   "execution_count": null,
   "id": "52a0c80f",
   "metadata": {},
   "outputs": [],
   "source": [
    "\n",
    "ip_dict = {'a':[2,3,4,1], 'b':[5,9,7,2], 'c':[7,1,6,2]}\n",
    "\n",
    "op_dict = {1:['a','c'], 2:['a','b','c'], 3:['a'], ... }\n",
    "\n",
    "\n"
   ]
  },
  {
   "cell_type": "code",
   "execution_count": 12,
   "id": "362404ae",
   "metadata": {},
   "outputs": [],
   "source": [
    "ip_dict = {'a':[2,3,4,1], 'b':[5,9,7,2], 'c':[7,1,6,2]}"
   ]
  },
  {
   "cell_type": "code",
   "execution_count": 14,
   "id": "0dd9cd40",
   "metadata": {},
   "outputs": [
    {
     "name": "stdout",
     "output_type": "stream",
     "text": [
      "{2: {'a', 'b', 'c'}, 3: {'a'}, 4: {'a'}, 1: {'a', 'c'}, 5: {'b'}, 9: {'b'}, 7: {'b', 'c'}, 6: {'c'}}\n"
     ]
    }
   ],
   "source": [
    "op_dict = {}\n",
    "for k in ip_dict:\n",
    "    val = ip_dict[k]\n",
    "    for i in val:\n",
    "        if i not in op_dict:\n",
    "            op_dict[i] = set([k])\n",
    "        elif i in op_dict:\n",
    "            op_dict[i].update([k])\n",
    "            \n",
    "print(op_dict)"
   ]
  },
  {
   "cell_type": "code",
   "execution_count": null,
   "id": "de2d8d61",
   "metadata": {},
   "outputs": [],
   "source": []
  }
 ],
 "metadata": {
  "kernelspec": {
   "display_name": "Python 3 (ipykernel)",
   "language": "python",
   "name": "python3"
  },
  "language_info": {
   "codemirror_mode": {
    "name": "ipython",
    "version": 3
   },
   "file_extension": ".py",
   "mimetype": "text/x-python",
   "name": "python",
   "nbconvert_exporter": "python",
   "pygments_lexer": "ipython3",
   "version": "3.10.4"
  }
 },
 "nbformat": 4,
 "nbformat_minor": 5
}
