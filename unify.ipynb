{
 "cells": [
  {
   "cell_type": "code",
   "execution_count": null,
   "id": "6ae72f3e",
   "metadata": {},
   "outputs": [],
   "source": [
    "EmpID,Dept,Age,Salary\n",
    "1,ABC,25,100\n",
    "2,ABC,35,200\n",
    "3,DEF,45,300\n",
    "4,DEF,55,400\n",
    "\n",
    "Output:\n",
    "Dept,Avg Age, Avg Salary\n",
    "ABC,30,150\n",
    "DEF,50,350"
   ]
  },
  {
   "cell_type": "code",
   "execution_count": 1,
   "id": "ffeca83e",
   "metadata": {},
   "outputs": [],
   "source": [
    "import pandas as pd\n",
    "data = {\"EmpID\":[1,2,3,4],\"Dept\":[\"ABC\"]*2+[\"DEF\"]*2,\"Age\":[25,35,45,55],\"Salary\":[100,200,300,400]}"
   ]
  },
  {
   "cell_type": "code",
   "execution_count": 2,
   "id": "02b6c4ba",
   "metadata": {},
   "outputs": [],
   "source": [
    "df = pd.DataFrame(data)"
   ]
  },
  {
   "cell_type": "code",
   "execution_count": 3,
   "id": "a5c80fa8",
   "metadata": {},
   "outputs": [
    {
     "data": {
      "text/html": [
       "<div>\n",
       "<style scoped>\n",
       "    .dataframe tbody tr th:only-of-type {\n",
       "        vertical-align: middle;\n",
       "    }\n",
       "\n",
       "    .dataframe tbody tr th {\n",
       "        vertical-align: top;\n",
       "    }\n",
       "\n",
       "    .dataframe thead th {\n",
       "        text-align: right;\n",
       "    }\n",
       "</style>\n",
       "<table border=\"1\" class=\"dataframe\">\n",
       "  <thead>\n",
       "    <tr style=\"text-align: right;\">\n",
       "      <th></th>\n",
       "      <th>EmpID</th>\n",
       "      <th>Dept</th>\n",
       "      <th>Age</th>\n",
       "      <th>Salary</th>\n",
       "    </tr>\n",
       "  </thead>\n",
       "  <tbody>\n",
       "    <tr>\n",
       "      <th>0</th>\n",
       "      <td>1</td>\n",
       "      <td>ABC</td>\n",
       "      <td>25</td>\n",
       "      <td>100</td>\n",
       "    </tr>\n",
       "    <tr>\n",
       "      <th>1</th>\n",
       "      <td>2</td>\n",
       "      <td>ABC</td>\n",
       "      <td>35</td>\n",
       "      <td>200</td>\n",
       "    </tr>\n",
       "    <tr>\n",
       "      <th>2</th>\n",
       "      <td>3</td>\n",
       "      <td>DEF</td>\n",
       "      <td>45</td>\n",
       "      <td>300</td>\n",
       "    </tr>\n",
       "    <tr>\n",
       "      <th>3</th>\n",
       "      <td>4</td>\n",
       "      <td>DEF</td>\n",
       "      <td>55</td>\n",
       "      <td>400</td>\n",
       "    </tr>\n",
       "  </tbody>\n",
       "</table>\n",
       "</div>"
      ],
      "text/plain": [
       "   EmpID Dept  Age  Salary\n",
       "0      1  ABC   25     100\n",
       "1      2  ABC   35     200\n",
       "2      3  DEF   45     300\n",
       "3      4  DEF   55     400"
      ]
     },
     "execution_count": 3,
     "metadata": {},
     "output_type": "execute_result"
    }
   ],
   "source": [
    "df"
   ]
  },
  {
   "cell_type": "code",
   "execution_count": 9,
   "id": "e12d67a0",
   "metadata": {},
   "outputs": [],
   "source": [
    "gpd = df.groupby(\"Dept\")"
   ]
  },
  {
   "cell_type": "code",
   "execution_count": 11,
   "id": "ce96d920",
   "metadata": {},
   "outputs": [
    {
     "data": {
      "text/plain": [
       "{'ABC': [0, 1], 'DEF': [2, 3]}"
      ]
     },
     "execution_count": 11,
     "metadata": {},
     "output_type": "execute_result"
    }
   ],
   "source": [
    "gpd.groups"
   ]
  },
  {
   "cell_type": "code",
   "execution_count": 13,
   "id": "15263335",
   "metadata": {},
   "outputs": [
    {
     "data": {
      "text/plain": [
       "[30.0, 50.0]"
      ]
     },
     "execution_count": 13,
     "metadata": {},
     "output_type": "execute_result"
    }
   ],
   "source": [
    "list(gpd.Age.mean())"
   ]
  },
  {
   "cell_type": "code",
   "execution_count": 16,
   "id": "01d13470",
   "metadata": {},
   "outputs": [
    {
     "data": {
      "text/plain": [
       "['ABC', 'DEF']"
      ]
     },
     "execution_count": 16,
     "metadata": {},
     "output_type": "execute_result"
    }
   ],
   "source": [
    "list(gpd.groups.keys())"
   ]
  },
  {
   "cell_type": "code",
   "execution_count": 17,
   "id": "056ed1d6",
   "metadata": {},
   "outputs": [
    {
     "name": "stdout",
     "output_type": "stream",
     "text": [
      "  Dept  Avg Age  Avg Salary\n",
      "0  ABC     30.0       150.0\n",
      "1  DEF     50.0       350.0\n"
     ]
    }
   ],
   "source": [
    "gpd.Age.mean()\n",
    "gpd.Salary.mean()\n",
    "opt_data = {\"Dept\":list(gpd.groups.keys()),\"Avg Age\":list(gpd.Age.mean()),\"Avg Salary\":list(gpd.Salary.mean())}\n",
    "print(pd.DataFrame(opt_data))"
   ]
  },
  {
   "cell_type": "code",
   "execution_count": 18,
   "id": "ee7dc31a",
   "metadata": {},
   "outputs": [],
   "source": [
    "data = {\"EmpID\":[1,2,3,4],\"Dept\":[\"ABC\"]*2+[\"DEF\"]*2,\"Age\":[25,35,45,55],\"Salary\":[100,200,300,400]}"
   ]
  },
  {
   "cell_type": "code",
   "execution_count": 19,
   "id": "171da190",
   "metadata": {},
   "outputs": [
    {
     "data": {
      "text/plain": [
       "{'EmpID': [1, 2, 3, 4],\n",
       " 'Dept': ['ABC', 'ABC', 'DEF', 'DEF'],\n",
       " 'Age': [25, 35, 45, 55],\n",
       " 'Salary': [100, 200, 300, 400]}"
      ]
     },
     "execution_count": 19,
     "metadata": {},
     "output_type": "execute_result"
    }
   ],
   "source": [
    "data"
   ]
  },
  {
   "cell_type": "code",
   "execution_count": 21,
   "id": "b9329bdd",
   "metadata": {},
   "outputs": [
    {
     "name": "stdout",
     "output_type": "stream",
     "text": [
      "{'ABC': {'Age': [25, 35], 'Salary': [100, 200], 'Avg Age': 30.0, 'Avg Salary': 150.0}, 'DEF': {'Age': [45, 55], 'Salary': [300, 400], 'Avg Age': 50.0, 'Avg Salary': 350.0}}\n"
     ]
    }
   ],
   "source": [
    "opt_data = {}\n",
    "for i,j,k in zip(data[\"Dept\"],data[\"Age\"],data[\"Salary\"]):\n",
    "    if i in opt_data:\n",
    "        opt_data[i][\"Age\"].append(j)\n",
    "        opt_data[i][\"Salary\"].append(k)\n",
    "    else:\n",
    "        opt_data[i] = {\"Age\":[j],\"Salary\":[k]}\n",
    "for dept in opt_data:\n",
    "    opt_data[dept][\"Avg Age\"] = sum(opt_data[dept][\"Age\"])/len(opt_data[dept][\"Age\"])\n",
    "    opt_data[dept][\"Avg Salary\"] = sum(opt_data[dept][\"Salary\"])/len(opt_data[dept][\"Salary\"])\n",
    "print(opt_data)"
   ]
  },
  {
   "cell_type": "code",
   "execution_count": null,
   "id": "5a125bd6",
   "metadata": {},
   "outputs": [],
   "source": [
    "Largest palindrome:\n",
    "abcaacde\n",
    "abccbadef"
   ]
  },
  {
   "cell_type": "code",
   "execution_count": 30,
   "id": "ac081f00",
   "metadata": {},
   "outputs": [
    {
     "name": "stdout",
     "output_type": "stream",
     "text": [
      "cc\n",
      "bccb\n",
      "abccba\n"
     ]
    }
   ],
   "source": [
    "def if_pelindrom(s):\n",
    "    return s==s[::-1]\n",
    "s = \"abccbadef\" \n",
    "for i in range(len(s)-1):\n",
    "    new_str = s[i:i+2]\n",
    "    k = 1\n",
    "    while if_pelindrom(new_str):\n",
    "        print(new_str)\n",
    "        new_str = s[i-k]+new_str+s[i+k+1]\n",
    "        k+=1"
   ]
  },
  {
   "cell_type": "code",
   "execution_count": 31,
   "id": "b2cb3ac0",
   "metadata": {},
   "outputs": [
    {
     "name": "stdout",
     "output_type": "stream",
     "text": [
      "aa\n",
      "caac\n"
     ]
    }
   ],
   "source": [
    "def if_pelindrom(s):\n",
    "    return s==s[::-1]\n",
    "s = \"abcaacde\" \n",
    "for i in range(len(s)-1):\n",
    "    new_str = s[i:i+2]\n",
    "    k = 1\n",
    "    while if_pelindrom(new_str):\n",
    "        print(new_str)\n",
    "        new_str = s[i-k]+new_str+s[i+k+1]\n",
    "        k+=1"
   ]
  },
  {
   "cell_type": "code",
   "execution_count": 38,
   "id": "f3651e84",
   "metadata": {},
   "outputs": [
    {
     "name": "stdout",
     "output_type": "stream",
     "text": [
      "cc\n",
      "bccb\n",
      "cbc\n",
      "ccbcc\n",
      "bccbccb\n",
      "abccbccba\n"
     ]
    },
    {
     "ename": "IndexError",
     "evalue": "string index out of range",
     "output_type": "error",
     "traceback": [
      "\u001b[0;31m---------------------------------------------------------------------------\u001b[0m",
      "\u001b[0;31mIndexError\u001b[0m                                Traceback (most recent call last)",
      "Input \u001b[0;32mIn [38]\u001b[0m, in \u001b[0;36m<cell line: 4>\u001b[0;34m()\u001b[0m\n\u001b[1;32m     19\u001b[0m     new_str \u001b[38;5;241m=\u001b[39m s[i\u001b[38;5;241m-\u001b[39mk]\u001b[38;5;241m+\u001b[39mnew_str\u001b[38;5;241m+\u001b[39ms[i\u001b[38;5;241m+\u001b[39mk\u001b[38;5;241m+\u001b[39m\u001b[38;5;241m1\u001b[39m]\n\u001b[1;32m     20\u001b[0m \u001b[38;5;28;01melse\u001b[39;00m:\n\u001b[0;32m---> 21\u001b[0m     new_str \u001b[38;5;241m=\u001b[39m s[i\u001b[38;5;241m-\u001b[39mk]\u001b[38;5;241m+\u001b[39mnew_str\u001b[38;5;241m+\u001b[39m\u001b[43ms\u001b[49m\u001b[43m[\u001b[49m\u001b[43mi\u001b[49m\u001b[38;5;241;43m+\u001b[39;49m\u001b[43mk\u001b[49m\u001b[38;5;241;43m+\u001b[39;49m\u001b[38;5;241;43m2\u001b[39;49m\u001b[43m]\u001b[49m\n\u001b[1;32m     22\u001b[0m k\u001b[38;5;241m+\u001b[39m\u001b[38;5;241m=\u001b[39m\u001b[38;5;241m1\u001b[39m\n\u001b[1;32m     23\u001b[0m \u001b[38;5;28;01mif\u001b[39;00m \u001b[38;5;28mlen\u001b[39m(new_str)\u001b[38;5;241m>\u001b[39m\u001b[38;5;28mlen\u001b[39m(s):\n",
      "\u001b[0;31mIndexError\u001b[0m: string index out of range"
     ]
    }
   ],
   "source": [
    "def if_pelindrom(s):\n",
    "    return s==s[::-1]\n",
    "s = \"abccbccba\" \n",
    "for i in range(len(s)-2):\n",
    "    new_str = s[i:i+2]\n",
    "    o = False\n",
    "    if if_pelindrom(s[i:i+2]):\n",
    "        new_str = s[i:i+2]\n",
    "\n",
    "    elif if_pelindrom(s[i:i+3]):\n",
    "        new_str = s[i:i+3]\n",
    "        o = True\n",
    "\n",
    "    k = 1\n",
    "    i\n",
    "    while if_pelindrom(new_str):\n",
    "        print(new_str)\n",
    "        if not o:\n",
    "            new_str = s[i-k]+new_str+s[i+k+1]\n",
    "        else:\n",
    "            new_str = s[i-k]+new_str+s[i+k+2]\n",
    "        k+=1\n",
    "        if len(new_str)>len(s):\n",
    "            break"
   ]
  },
  {
   "cell_type": "code",
   "execution_count": 59,
   "id": "7ed1c5f4",
   "metadata": {},
   "outputs": [
    {
     "name": "stdout",
     "output_type": "stream",
     "text": [
      "aba\n"
     ]
    }
   ],
   "source": [
    "s = \"lljaba\"\n",
    "\n",
    "def longestPalindrome( s: str) -> str:\n",
    "    ans=''\n",
    "    for i in range(len(s)):\n",
    "        ans=max(ans,expand(s,i,i), expand(s,i,i+1), key=len)\n",
    "    return ans\n",
    "\n",
    "def expand(s,i,j):\n",
    "    while i>=0 and j<len(s) and s[i]==s[j]:\n",
    "        i-=1\n",
    "        j+=1\n",
    "    return s[i+1:j]\n",
    "print(longestPalindrome(s))"
   ]
  },
  {
   "cell_type": "code",
   "execution_count": 64,
   "id": "d232b7bd",
   "metadata": {},
   "outputs": [
    {
     "name": "stdout",
     "output_type": "stream",
     "text": [
      "a l\n",
      "['l']\n",
      "a l\n",
      "['l', 'l']\n",
      "a l\n",
      "['l', 'l', 'j']\n",
      "a l\n",
      "['l', 'l', 'j', 'a']\n",
      "a aba\n",
      "['l', 'l', 'j', 'a', 'aba']\n",
      "a aba\n",
      "['l', 'l', 'j', 'a', 'aba', 'a']\n"
     ]
    }
   ],
   "source": [
    "\n",
    "s = \"abccbccba\"\n",
    "s = \"lljaba\"\n",
    "pdms = []\n",
    "def expand(l,r,s):\n",
    "    \n",
    "    while  l>=0 and r<len(s) and s[l]==s[r]:\n",
    "        l-=1\n",
    "        r+=1\n",
    "    return s[l+1:r]\n",
    "for i in range(len(s)):\n",
    "    l = i\n",
    "    r = i+1\n",
    "    pdms.append(expand(l,l,s))\n",
    "    a = max(a,expand(l,l,s),key=len)\n",
    "    print(\"a\",a)\n",
    "    print(pdms)\n",
    "\n",
    "\n",
    "\n"
   ]
  },
  {
   "cell_type": "code",
   "execution_count": 52,
   "id": "383217e0",
   "metadata": {},
   "outputs": [
    {
     "data": {
      "text/plain": [
       "'l'"
      ]
     },
     "execution_count": 52,
     "metadata": {},
     "output_type": "execute_result"
    }
   ],
   "source": [
    "s[0:1]"
   ]
  },
  {
   "cell_type": "code",
   "execution_count": 66,
   "id": "56582c84",
   "metadata": {},
   "outputs": [
    {
     "data": {
      "text/plain": [
       "'aba'"
      ]
     },
     "execution_count": 66,
     "metadata": {},
     "output_type": "execute_result"
    }
   ],
   "source": [
    "max(['l', 'l', 'j', 'a', 'aba'],key=len)"
   ]
  },
  {
   "cell_type": "code",
   "execution_count": null,
   "id": "35f6b15f",
   "metadata": {},
   "outputs": [],
   "source": []
  }
 ],
 "metadata": {
  "kernelspec": {
   "display_name": "Python 3 (ipykernel)",
   "language": "python",
   "name": "python3"
  },
  "language_info": {
   "codemirror_mode": {
    "name": "ipython",
    "version": 3
   },
   "file_extension": ".py",
   "mimetype": "text/x-python",
   "name": "python",
   "nbconvert_exporter": "python",
   "pygments_lexer": "ipython3",
   "version": "3.10.4"
  }
 },
 "nbformat": 4,
 "nbformat_minor": 5
}
