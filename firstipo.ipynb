{
 "cells": [
  {
   "cell_type": "code",
   "execution_count": null,
   "id": "430c73cf-f12a-4c31-b03a-88962a0a1412",
   "metadata": {},
   "outputs": [],
   "source": [
    "opt = \"\"\n",
    "a = \"aaaabbbccaabcddddd\"\n",
    "cnt = 0\n",
    "for i,j in zip(a[:-1],a[1:]):\n",
    "    if i==j:\n",
    "        cnt+=1\n",
    "    else:\n",
    "        opt+=str(cnt+1)+i\n",
    "        cnt = 0\n",
    "opt+=str(cnt+1)+j\n",
    "\n",
    "print(opt)"
   ]
  }
 ],
 "metadata": {
  "kernelspec": {
   "display_name": "yolov3-tf2",
   "language": "python",
   "name": "yolov3-tf2"
  },
  "language_info": {
   "codemirror_mode": {
    "name": "ipython",
    "version": 3
   },
   "file_extension": ".py",
   "mimetype": "text/x-python",
   "name": "python",
   "nbconvert_exporter": "python",
   "pygments_lexer": "ipython3",
   "version": "3.10.4"
  }
 },
 "nbformat": 4,
 "nbformat_minor": 5
}
