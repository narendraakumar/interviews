{
 "cells": [
  {
   "cell_type": "code",
   "execution_count": 1,
   "id": "bd145505",
   "metadata": {},
   "outputs": [],
   "source": [
    "#reverse the numbers \n",
    "\n",
    "input_str =\"12+32*2-10/20\""
   ]
  },
  {
   "cell_type": "code",
   "execution_count": 23,
   "id": "9eab81cc",
   "metadata": {},
   "outputs": [],
   "source": [
    "out_put_str = 20/10-2*32+12"
   ]
  },
  {
   "cell_type": "code",
   "execution_count": 3,
   "id": "8be529bc",
   "metadata": {},
   "outputs": [
    {
     "data": {
      "text/plain": [
       "75.5"
      ]
     },
     "execution_count": 3,
     "metadata": {},
     "output_type": "execute_result"
    }
   ],
   "source": [
    "eval(input_str)"
   ]
  },
  {
   "cell_type": "code",
   "execution_count": 22,
   "id": "a65da415",
   "metadata": {},
   "outputs": [
    {
     "name": "stdout",
     "output_type": "stream",
     "text": [
      "20/10-2*32+12\n",
      "-50.0\n"
     ]
    }
   ],
   "source": [
    "nums = []\n",
    "math_signs = []\n",
    "w = \"\"\n",
    "for i,s in enumerate(input_str):\n",
    "    \n",
    "    if s.isdigit():\n",
    "        w+=s\n",
    "    \n",
    "    else:\n",
    "        nums.append(w)\n",
    "        math_signs.append(s)\n",
    "        w = \"\"\n",
    "nums.append(w)\n",
    "nums.reverse()\n",
    "math_signs.reverse()\n",
    "math_signs.append(\"\")\n",
    "\n",
    "def make_eqn(nums,signs):\n",
    "    fin_eqn = \"\"\n",
    "    for i in range(len(nums)):\n",
    "        num = nums[i]\n",
    "        sign = signs[-(len(signs))+i]\n",
    "        fin_eqn+=(num+sign)\n",
    "    return fin_eqn\n",
    "print(make_eqn(nums,math_signs))\n",
    "print(eval(make_eqn(nums,math_signs)))\n",
    "\n",
    "        "
   ]
  },
  {
   "cell_type": "code",
   "execution_count": 24,
   "id": "7db25e3a",
   "metadata": {},
   "outputs": [
    {
     "name": "stdout",
     "output_type": "stream",
     "text": [
      "-50.0\n"
     ]
    }
   ],
   "source": [
    "print(out_put_str)"
   ]
  },
  {
   "cell_type": "code",
   "execution_count": 7,
   "id": "3212ca47",
   "metadata": {},
   "outputs": [
    {
     "data": {
      "text/plain": [
       "False"
      ]
     },
     "execution_count": 7,
     "metadata": {},
     "output_type": "execute_result"
    }
   ],
   "source": [
    "\"\".isdigit()"
   ]
  },
  {
   "cell_type": "code",
   "execution_count": null,
   "id": "6b53de2c",
   "metadata": {},
   "outputs": [],
   "source": [
    "2"
   ]
  }
 ],
 "metadata": {
  "kernelspec": {
   "display_name": "Python 3 (ipykernel)",
   "language": "python",
   "name": "python3"
  },
  "language_info": {
   "codemirror_mode": {
    "name": "ipython",
    "version": 3
   },
   "file_extension": ".py",
   "mimetype": "text/x-python",
   "name": "python",
   "nbconvert_exporter": "python",
   "pygments_lexer": "ipython3",
   "version": "3.10.4"
  }
 },
 "nbformat": 4,
 "nbformat_minor": 5
}
