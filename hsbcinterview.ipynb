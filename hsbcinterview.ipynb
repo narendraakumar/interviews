{
 "cells": [
  {
   "cell_type": "markdown",
   "metadata": {},
   "source": [
    "Given a string of size n, write functions to perform following operations on string. Left (Or anticlockwise) rotate the given string by d elements (where d <= n). Right (Or clockwise) rotate the given string by d elements (where d <= n). \n",
    "\n",
    "Examples: Input : \n",
    "s = \"whatismyname\" d = 2 Output : Left Rotation : \"atismynamewh\" Right Rotation : \"mewhatismyna\" Input : s = \"qwertyu\" d = 2 Output : Left rotation : \"ertyuqw\" Right rotation : \"yuqwert\" "
   ]
  },
  {
   "cell_type": "code",
   "execution_count": 9,
   "metadata": {},
   "outputs": [
    {
     "name": "stdout",
     "output_type": "stream",
     "text": [
      "mewhatismyna\n",
      "atismynamewh\n"
     ]
    }
   ],
   "source": [
    "def stringtotate(var_str,d,rot=\"acw\"):\n",
    "    n = len(var_str)\n",
    "    if rot==\"acw\":\n",
    "        str1,str2  = var_str[:d],var_str[d:]\n",
    "        return str2+str1\n",
    "    elif rot == \"cw\":\n",
    "        str1,str2  = var_str[-d:],var_str[:-d]\n",
    "        return (str1+str2)\n",
    "    \n",
    "print(stringtotate(\"whatismyname\",2,\"cw\"))\n",
    "print(stringtotate(\"whatismyname\",2,\"acw\"))"
   ]
  },
  {
   "cell_type": "markdown",
   "metadata": {},
   "source": [
    "Write a function that accepts two parameters N,M. To create a matrix of size N x M. The (0,0) element should start at 1 and the next elements should be incremented by one. For example, if N =3, M=3. Then the matrix that has to be generated will be: [[1,2,3],[4,5,6],[7,8,9] ] "
   ]
  },
  {
   "cell_type": "code",
   "execution_count": 17,
   "metadata": {},
   "outputs": [
    {
     "name": "stdout",
     "output_type": "stream",
     "text": [
      "[[1 2 3]\n",
      " [4 5 6]\n",
      " [7 8 9]]\n"
     ]
    },
    {
     "data": {
      "text/plain": [
       "array([[1, 2, 3],\n",
       "       [4, 5, 6],\n",
       "       [7, 8, 9]])"
      ]
     },
     "execution_count": 17,
     "metadata": {},
     "output_type": "execute_result"
    }
   ],
   "source": [
    "import numpy as np\n",
    "def fun(n,m):\n",
    "    k = 1\n",
    "    eye_mat = np.eye(n,m,dtype=int)\n",
    "    for i in range(n):\n",
    "        for j in range(m):\n",
    "            eye_mat[i][j] = int(k)\n",
    "            k+=1\n",
    "    print(eye_mat)\n",
    "    \n",
    "    return eye_mat\n",
    "fun(3,3)    \n",
    "    "
   ]
  },
  {
   "cell_type": "markdown",
   "metadata": {},
   "source": [
    "Write a function to reverse odd or even rows in matrix. \n",
    "Mat = [[ 1,2,3,4], [5,6,7,8], [9,10,11,12]] \n",
    "reverse_matrix(mat,row=”odd”) -> [[ 1,2,3,4], [8,7,6,5], [9,10,11,12]] \n",
    "reverse_matrix(mat,row=”even”)-> [[ 4,3,2,1], [5,6,7,8], [12,11,10,9]] "
   ]
  },
  {
   "cell_type": "code",
   "execution_count": 24,
   "metadata": {},
   "outputs": [
    {
     "name": "stdout",
     "output_type": "stream",
     "text": [
      "[[1, 2, 3, 4], [8, 7, 6, 5], [9, 10, 11, 12]]\n",
      "[[4, 3, 2, 1], [5, 6, 7, 8], [12, 11, 10, 9]]\n"
     ]
    }
   ],
   "source": [
    "Mat = [[ 1,2,3,4], [5,6,7,8], [9,10,11,12]]\n",
    "from copy import deepcopy\n",
    "def reverse_matrix(mat=None,row=None):\n",
    "    mat_len = len(mat)\n",
    "    if row==\"odd\":\n",
    "        for i in range(0,mat_len):\n",
    "            if i%2==1:\n",
    "                mat[i] = mat[i][::-1]\n",
    "    \n",
    "    \n",
    "    elif row==\"even\":\n",
    "        for i in range(0,mat_len):\n",
    "            if i%2==0:\n",
    "                mat[i] = mat[i][::-1]\n",
    "    return mat\n",
    "\n",
    "print(reverse_matrix(deepcopy(Mat),\"odd\"))\n",
    "print(reverse_matrix(deepcopy(Mat),\"even\"))"
   ]
  },
  {
   "cell_type": "code",
   "execution_count": 23,
   "metadata": {},
   "outputs": [
    {
     "name": "stdout",
     "output_type": "stream",
     "text": [
      "[[1, 2, 3, 4], [8, 7, 6, 5], [9, 10, 11, 12]]\n",
      "[[4, 3, 2, 1], [8, 7, 6, 5], [12, 11, 10, 9]]\n"
     ]
    }
   ],
   "source": []
  },
  {
   "cell_type": "code",
   "execution_count": null,
   "metadata": {},
   "outputs": [],
   "source": []
  }
 ],
 "metadata": {
  "kernelspec": {
   "display_name": "Python 3",
   "language": "python",
   "name": "python3"
  },
  "language_info": {
   "codemirror_mode": {
    "name": "ipython",
    "version": 3
   },
   "file_extension": ".py",
   "mimetype": "text/x-python",
   "name": "python",
   "nbconvert_exporter": "python",
   "pygments_lexer": "ipython3",
   "version": "3.8.10"
  }
 },
 "nbformat": 4,
 "nbformat_minor": 4
}
